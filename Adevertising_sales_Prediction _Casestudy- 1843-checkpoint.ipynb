{
 "cells": [
  {
   "cell_type": "markdown",
   "id": "81f9de02",
   "metadata": {},
   "source": [
    "Practice Project - 6 - Advertising Sales Channel Prediction\n",
    "                       MULTIPLE LINEAR REGRESSION\n",
    "                       Sales = b0 + b1TV + b2Radio + b3Newspaper"
   ]
  },
  {
   "cell_type": "code",
   "execution_count": 25,
   "id": "0a037796",
   "metadata": {},
   "outputs": [],
   "source": [
    "from sklearn.linear_model import LinearRegression\n",
    "import pandas as pd\n",
    "%matplotlib inline \n",
    "df = pd.read_csv('D:\\Data Trained - Excel links\\Advertising.csv')"
   ]
  },
  {
   "cell_type": "code",
   "execution_count": 3,
   "id": "9025dfee",
   "metadata": {},
   "outputs": [
    {
     "data": {
      "text/plain": [
       "(200, 5)"
      ]
     },
     "execution_count": 3,
     "metadata": {},
     "output_type": "execute_result"
    }
   ],
   "source": [
    "df.shape"
   ]
  },
  {
   "cell_type": "code",
   "execution_count": 4,
   "id": "f12956f6",
   "metadata": {},
   "outputs": [
    {
     "data": {
      "text/html": [
       "<div>\n",
       "<style scoped>\n",
       "    .dataframe tbody tr th:only-of-type {\n",
       "        vertical-align: middle;\n",
       "    }\n",
       "\n",
       "    .dataframe tbody tr th {\n",
       "        vertical-align: top;\n",
       "    }\n",
       "\n",
       "    .dataframe thead th {\n",
       "        text-align: right;\n",
       "    }\n",
       "</style>\n",
       "<table border=\"1\" class=\"dataframe\">\n",
       "  <thead>\n",
       "    <tr style=\"text-align: right;\">\n",
       "      <th></th>\n",
       "      <th>Unnamed: 0</th>\n",
       "      <th>TV</th>\n",
       "      <th>radio</th>\n",
       "      <th>newspaper</th>\n",
       "      <th>sales</th>\n",
       "    </tr>\n",
       "  </thead>\n",
       "  <tbody>\n",
       "    <tr>\n",
       "      <th>0</th>\n",
       "      <td>1</td>\n",
       "      <td>230.1</td>\n",
       "      <td>37.8</td>\n",
       "      <td>69.2</td>\n",
       "      <td>22.1</td>\n",
       "    </tr>\n",
       "    <tr>\n",
       "      <th>1</th>\n",
       "      <td>2</td>\n",
       "      <td>44.5</td>\n",
       "      <td>39.3</td>\n",
       "      <td>45.1</td>\n",
       "      <td>10.4</td>\n",
       "    </tr>\n",
       "    <tr>\n",
       "      <th>2</th>\n",
       "      <td>3</td>\n",
       "      <td>17.2</td>\n",
       "      <td>45.9</td>\n",
       "      <td>69.3</td>\n",
       "      <td>9.3</td>\n",
       "    </tr>\n",
       "    <tr>\n",
       "      <th>3</th>\n",
       "      <td>4</td>\n",
       "      <td>151.5</td>\n",
       "      <td>41.3</td>\n",
       "      <td>58.5</td>\n",
       "      <td>18.5</td>\n",
       "    </tr>\n",
       "    <tr>\n",
       "      <th>4</th>\n",
       "      <td>5</td>\n",
       "      <td>180.8</td>\n",
       "      <td>10.8</td>\n",
       "      <td>58.4</td>\n",
       "      <td>12.9</td>\n",
       "    </tr>\n",
       "  </tbody>\n",
       "</table>\n",
       "</div>"
      ],
      "text/plain": [
       "   Unnamed: 0     TV  radio  newspaper  sales\n",
       "0           1  230.1   37.8       69.2   22.1\n",
       "1           2   44.5   39.3       45.1   10.4\n",
       "2           3   17.2   45.9       69.3    9.3\n",
       "3           4  151.5   41.3       58.5   18.5\n",
       "4           5  180.8   10.8       58.4   12.9"
      ]
     },
     "execution_count": 4,
     "metadata": {},
     "output_type": "execute_result"
    }
   ],
   "source": [
    "df.head()"
   ]
  },
  {
   "cell_type": "code",
   "execution_count": 10,
   "id": "ebf92fa9",
   "metadata": {},
   "outputs": [],
   "source": [
    "# Building linear regression model using TV and Radio as predictors\n",
    "# Splitting data into predictors X and output Y\n",
    "\n",
    "input_feature = ['TV', 'radio']\n",
    "X = df[input_feature]\n",
    "Y = df['sales']"
   ]
  },
  {
   "cell_type": "code",
   "execution_count": 13,
   "id": "bcf06ea9",
   "metadata": {},
   "outputs": [
    {
     "name": "stdout",
     "output_type": "stream",
     "text": [
      "intercept: = b0 2.9210999124051362\n",
      "========\n",
      "slope:= b1 & b2 [0.04575482 0.18799423]\n"
     ]
    }
   ],
   "source": [
    "# Finding Linear model\n",
    "\n",
    "model = LinearRegression()\n",
    "model = model.fit(X,Y)\n",
    "\n",
    "print('intercept: = b0', model.intercept_)\n",
    "print('========')\n",
    "print('slope:= b1 & b2', model.coef_)\n",
    " "
   ]
  },
  {
   "cell_type": "code",
   "execution_count": 14,
   "id": "ac2d45a0",
   "metadata": {},
   "outputs": [
    {
     "name": "stdout",
     "output_type": "stream",
     "text": [
      "predicted response:\n",
      "[20.55546463 12.34536229 12.33701773 17.61711596 13.22390813 12.51208449\n",
      " 11.71821241 12.10551553  3.7093792  12.55169696  7.0358597  17.25652015\n",
      " 10.60866187  8.81095051 18.44466773 20.82891539 12.90386507 23.24107626\n",
      "  9.94121476 14.15384619 18.12139161 14.74206357  6.51417168 16.54402663\n",
      "  8.14035215 15.6080206  14.96769383 17.0463346  19.39954145  9.15929748\n",
      " 21.64292187 11.35791808  7.65045928 18.83346334  7.56302763 16.99280099\n",
      " 23.36720719 15.6258994   9.91257829 20.4405801  16.37872122 17.29870935\n",
      " 21.5621537  13.96692266  8.9009974  15.16263814  8.88644967 21.69944046\n",
      " 16.28690268  8.18162949 12.64569407  9.31962792 20.66180115 19.96126242\n",
      " 20.35512357 21.30864743  8.53774783 12.76239488 21.89072858 18.10746914\n",
      "  5.74497097 22.90418658 16.78413768 13.18474853 16.96570907  7.82652846\n",
      "  8.98703456 12.02066194 18.95313425 21.09369037 17.78350693 10.63329605\n",
      " 10.35113844  9.91334008 17.30983543 11.90970399  4.48014809 13.79239059\n",
      "  8.78920329  9.67621401 11.43621364 14.6638809  10.18272029 14.41647235\n",
      " 20.77350468 15.22002396 11.58203354 15.61872354 11.75510286 16.93110264\n",
      "  9.98714329  4.51167896 19.17972975 21.26277229 10.46708623 16.33347878\n",
      " 12.62023117 15.32904398 24.12842563 16.94651016 13.90534597 23.30701753\n",
      " 17.64034079 14.75193037 20.26809884 17.95362103  6.13290678  7.11373347\n",
      "  3.59568568 19.66392439 14.79408982 21.12381933 13.85533202 16.38399023\n",
      " 15.29725626 12.93708446 11.97848762  6.56716317 15.60946713  6.81665095\n",
      " 14.42450056  7.86076515 13.62136464 15.05811789 19.4940435   9.12925166\n",
      " 10.59096289  6.59063608 22.21260278  7.90401761 10.39769966 15.60046013\n",
      "  8.41888332 19.27581486 11.86602974 13.96678613 11.42419802 20.87722595\n",
      "  9.75760743 19.63411177  9.47540519 18.43880322 19.25144497  8.77862066\n",
      " 10.10502768  9.6976895  15.27918887 23.26038805 12.23595022  9.81659119\n",
      " 18.37759626 10.03658404 16.34251686 18.22227054 15.48053237  5.28942768\n",
      " 15.39522591 10.01956371 10.39341821 12.40610283 14.21650102 13.57248088\n",
      " 14.94400258 17.32019972 11.04707937 14.28978442 10.80869402 13.36076565\n",
      " 17.21335083 17.92193265  7.3895737  14.37684633  7.59657824 11.96096978\n",
      " 13.73615116 24.7835259  19.96402163 12.17492441 16.01384397 12.37803956\n",
      " 10.57508895 13.93369584  6.56408761 24.16393648 18.53794901 20.77937663\n",
      "  9.69868449 17.06027938 18.62009678  6.0514451  12.45497782  8.4059261\n",
      "  4.47885906 18.44876059 16.4631902   5.36451249  8.15237521 12.76804849\n",
      " 23.79292299 15.15754285]\n",
      "======\n"
     ]
    }
   ],
   "source": [
    "Y_Pred = model.predict(X)\n",
    "print('predicted response:', Y_Pred, sep='\\n')\n",
    "print('======')"
   ]
  },
  {
   "cell_type": "code",
   "execution_count": 15,
   "id": "6ccb5cb2",
   "metadata": {},
   "outputs": [
    {
     "name": "stdout",
     "output_type": "stream",
     "text": [
      "Coefficient of Determination: 0.8971942610828957\n",
      "============\n"
     ]
    }
   ],
   "source": [
    "# Calculating R2, coefficient of determination (R2)\n",
    "\n",
    "r2 = model.score(X, Y)\n",
    "print('Coefficient of Determination:', r2)\n",
    "print('============')\n"
   ]
  },
  {
   "cell_type": "code",
   "execution_count": 18,
   "id": "042d41ed",
   "metadata": {},
   "outputs": [
    {
     "name": "stdout",
     "output_type": "stream",
     "text": [
      "[105.57167962]\n"
     ]
    }
   ],
   "source": [
    "new_x = [[600, 400]]\n",
    "print(model.predict(new_x))"
   ]
  },
  {
   "cell_type": "code",
   "execution_count": null,
   "id": "22c8f52c",
   "metadata": {},
   "outputs": [],
   "source": [
    "#  output is - we can excpet to sell 105 units approximatley\n",
    "# If output as 105.57 whcih means if we invest 600/- on Tv and 400/- on Radio advertising."
   ]
  },
  {
   "cell_type": "code",
   "execution_count": 19,
   "id": "ceb7dff9",
   "metadata": {},
   "outputs": [],
   "source": [
    "# Building linear regression model using Radio and Newspaper as predictors\n",
    "# Splitting data into predictors X and output Y\n",
    "\n",
    "input_feature = ['radio', 'newspaper']\n",
    "X = df[input_feature]\n",
    "Y = df['sales']"
   ]
  },
  {
   "cell_type": "code",
   "execution_count": 21,
   "id": "c33a3927",
   "metadata": {},
   "outputs": [
    {
     "name": "stdout",
     "output_type": "stream",
     "text": [
      "intercept: = b0 9.188920459196563\n",
      "========\n",
      "slope:= b2 & b3 [0.19904459 0.00664417]\n"
     ]
    }
   ],
   "source": [
    "# Finding Linear model\n",
    "\n",
    "model = LinearRegression()\n",
    "model = model.fit(X,Y)\n",
    "\n",
    "print('intercept: = b0', model.intercept_)\n",
    "print('========')\n",
    "print('slope:= b2 & b3', model.coef_)"
   ]
  },
  {
   "cell_type": "code",
   "execution_count": 22,
   "id": "bc49ceb3",
   "metadata": {},
   "outputs": [
    {
     "name": "stdout",
     "output_type": "stream",
     "text": [
      "predicted response:\n",
      "[17.17258299 17.31102527 18.78550861 17.7981464  11.72662187 19.42051419\n",
      " 15.87372124 13.16726692  9.61355828  9.8472929  10.50416813 13.99256741\n",
      " 16.61323681 10.74949743 16.04311963 19.03482442 17.23138849 17.44183132\n",
      " 13.39092303 14.07298999 15.05725463 10.36018599 12.68328056 12.72685147\n",
      " 11.81847074 10.01513794 15.10464366 12.66511677 14.73518055 12.64471628\n",
      " 15.10891081 12.90876153  9.68681259 13.17180559  9.51674978 10.06147878\n",
      " 17.94029454 19.32536217 14.73662164 16.90551523 13.83757082 16.09413945\n",
      " 14.71441522 11.03630126 14.59205928 13.87671532 11.39665897 17.57218833\n",
      " 12.66536935 11.76224783 10.03584714 11.12366759 17.75218934 18.77479374\n",
      " 15.02704714 19.42037387 15.05714237 13.12086996 19.3120177  15.1225268\n",
      "  9.72919498 18.05156097 12.45549763 15.1364515  17.90004572 11.04601494\n",
      " 14.10003465 12.14283765 14.73573271 18.10769968 15.53681459 12.24587848\n",
      " 15.88562463 10.53143731 14.17245616 18.48115841  9.64492622 14.95603866\n",
      " 15.20280906 10.87504426 14.65157621 10.25017333 13.44546139 18.2829375\n",
      " 17.9724111  13.28786325 14.76895358 17.6900428  14.75224001 19.04476262\n",
      " 10.22602979  9.70674511 16.24892065 16.93442195 12.04796628 15.83020646\n",
      "  9.92477717 13.51502877 17.94868852 17.79404764 10.3756921  17.08463643\n",
      " 11.34145619 12.7314182  16.05136415 18.81659591 11.57574298  9.40277869\n",
      "  9.43862916 14.57976299 11.19648199 16.90675988 12.27015322 13.36033176\n",
      " 18.73343147 16.50562924 12.20534902  9.44648992 17.0598846  12.52179905\n",
      " 14.83027644 13.84305454  9.77027661 16.15825117 16.11105859 11.70973079\n",
      " 17.26795039  9.25004686 18.96336692 11.86381951 17.1288907  10.05184929\n",
      " 14.61688618 16.15656663 17.30789963 18.60049186 17.01345044 15.33796644\n",
      " 14.48038102 17.93827323 12.65838841 16.73739868 16.04901519 10.55203425\n",
      " 12.39323884  9.62690276 10.69975031 19.23644249 17.28948327 14.46114098\n",
      " 12.20147477 11.18446635 13.92100678 17.34147622 13.45188105 11.53570954\n",
      " 18.18289111  9.60913187 16.83398266 13.08122943 12.99560377 16.64227472\n",
      " 12.96171848 16.56292841 12.15075453 10.42909808 16.81651136 10.35284933\n",
      " 14.26907733 11.34131587 11.62009056 13.66388634 13.30266776 10.68718251\n",
      "  9.95271076 19.1999276  15.33494394 10.97534323  9.80418996 11.29630387\n",
      "  9.76158305 10.44581165 10.52080663 18.22488973 13.62789554 18.29605746\n",
      "  9.78364915 15.02242428 11.98022376 11.75283373 17.40818948 11.37846712\n",
      " 10.21495921 17.57271243 16.31477305 10.01707507 10.21805678 11.0825579\n",
      " 17.98863776 10.95850829]\n",
      "======\n"
     ]
    }
   ],
   "source": [
    "Y_Pred = model.predict(X)\n",
    "print('predicted response:', Y_Pred, sep='\\n')\n",
    "print('======')"
   ]
  },
  {
   "cell_type": "code",
   "execution_count": 23,
   "id": "c64f520f",
   "metadata": {},
   "outputs": [
    {
     "name": "stdout",
     "output_type": "stream",
     "text": [
      "Coefficient of Determination: 0.33270518395032256\n",
      "============\n"
     ]
    }
   ],
   "source": [
    "# Calculating R3, coefficient of determination (R3)\n",
    "\n",
    "r3 = model.score(X, Y)\n",
    "print('Coefficient of Determination:', r3)\n",
    "print('============')"
   ]
  },
  {
   "cell_type": "code",
   "execution_count": 24,
   "id": "81636981",
   "metadata": {},
   "outputs": [
    {
     "name": "stdout",
     "output_type": "stream",
     "text": [
      "[213.54885397]\n"
     ]
    }
   ],
   "source": [
    "new_x = [[1000, 800]]\n",
    "print(model.predict(new_x))"
   ]
  },
  {
   "cell_type": "code",
   "execution_count": null,
   "id": "5262c3f6",
   "metadata": {},
   "outputs": [],
   "source": [
    "#  output is - we can excpet to sell 213 units approximatley\n",
    "# If output as 213.5488 whcih means if we invest 1000/- on Radio and 800/- on newspaper advertising."
   ]
  }
 ],
 "metadata": {
  "kernelspec": {
   "display_name": "Python 3 (ipykernel)",
   "language": "python",
   "name": "python3"
  },
  "language_info": {
   "codemirror_mode": {
    "name": "ipython",
    "version": 3
   },
   "file_extension": ".py",
   "mimetype": "text/x-python",
   "name": "python",
   "nbconvert_exporter": "python",
   "pygments_lexer": "ipython3",
   "version": "3.9.7"
  }
 },
 "nbformat": 4,
 "nbformat_minor": 5
}
